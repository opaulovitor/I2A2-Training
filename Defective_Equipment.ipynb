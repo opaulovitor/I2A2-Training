{
  "nbformat": 4,
  "nbformat_minor": 0,
  "metadata": {
    "colab": {
      "provenance": [],
      "authorship_tag": "ABX9TyPRjh6TtJuep6mJ/ro1RnET",
      "include_colab_link": true
    },
    "kernelspec": {
      "name": "python3",
      "display_name": "Python 3"
    },
    "language_info": {
      "name": "python"
    }
  },
  "cells": [
    {
      "cell_type": "markdown",
      "metadata": {
        "id": "view-in-github",
        "colab_type": "text"
      },
      "source": [
        "<a href=\"https://colab.research.google.com/github/opaulovitor/I2A2-Training/blob/main/Defective_Equipment.ipynb\" target=\"_parent\"><img src=\"https://colab.research.google.com/assets/colab-badge.svg\" alt=\"Open In Colab\"/></a>"
      ]
    },
    {
      "cell_type": "code",
      "execution_count": null,
      "metadata": {
        "id": "XchKTFFHIRHo"
      },
      "outputs": [],
      "source": [
        "import numpy as np\n",
        "import pandas as pd\n",
        "from sklearn.decomposition import PCA\n",
        "from sklearn.preprocessing import StandardScaler\n",
        "import matplotlib.pyplot as plt\n",
        "\n",
        "# Passo 1:Ler o Dataset\n",
        "df = pd.read_excel('Defective_Equipment (rev 2024-02-21) - Transposta.xlsx')\n",
        "print(df.head())\n",
        "\n",
        "# Garanta que 'ID' não seja incluído na transformação do PCA\n",
        "X = df.drop('Seq', axis=1).select_dtypes(include=[np.number])\n",
        "labels = df['Seq'].values\n",
        "print(labels)\n",
        "\n",
        "# Passo 2: Normalizar os dados\n",
        "scaler = StandardScaler()\n",
        "scaled_data = scaler.fit_transform(X)\n",
        "\n",
        "# Passo 3: Aplicar PCA\n",
        "pca = PCA(n_components=1)\n",
        "pca_results = pca.fit_transform(scaled_data)\n",
        "\n",
        "# Criar índices para o eixo x\n",
        "indices = np.arange(len(pca_results))\n",
        "y = [0] * len(pca_results)\n",
        "\n",
        "# Visualizar a variância explicada\n",
        "print(f'Variância explicada: {pca.explained_variance_ratio_}')\n",
        "\n",
        "plt.figure(figsize=(12, 8))\n",
        "plt.scatter(pca_results, y, alpha=0.5)  # Plotagem dos pontos\n",
        "\n",
        "# Adicionar rótulos\n",
        "deslocamento_x = 0.02\n",
        "deslocamento_y = 0.001\n",
        "\n",
        "# Opcional: Adicionar rótulos\n",
        "for i, label in enumerate(labels):\n",
        "    plt.text(pca_results[i]+deslocamento_x, y[i] + deslocamento_y, ' '+str(label), rotation=45, ha='left', va='bottom', fontsize=9)\n",
        "\n",
        "plt.title('Visualização do Primeiro Componente Principal')\n",
        "plt.gca().get_yaxis().set_visible(False)\n",
        "plt.gca().get_xaxis().set_visible(False)\n",
        "plt.axhline(0, color='red', linestyle='--')\n",
        "plt.show()"
      ]
    }
  ]
}